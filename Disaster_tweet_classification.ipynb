{
  "nbformat": 4,
  "nbformat_minor": 0,
  "metadata": {
    "kernelspec": {
      "name": "python3",
      "display_name": "Python 3",
      "language": "python"
    },
    "language_info": {
      "name": "python",
      "version": "3.7.6",
      "mimetype": "text/x-python",
      "codemirror_mode": {
        "name": "ipython",
        "version": 3
      },
      "pygments_lexer": "ipython3",
      "nbconvert_exporter": "python",
      "file_extension": ".py"
    },
    "colab": {
      "name": "Disaster tweet classification",
      "provenance": [],
      "include_colab_link": true
    }
  },
  "cells": [
    {
      "cell_type": "markdown",
      "metadata": {
        "id": "view-in-github",
        "colab_type": "text"
      },
      "source": [
        "<a href=\"https://colab.research.google.com/github/gowtamvamsi/Disaster-tweet-classification/blob/master/Disaster_tweet_classification.ipynb\" target=\"_parent\"><img src=\"https://colab.research.google.com/assets/colab-badge.svg\" alt=\"Open In Colab\"/></a>"
      ]
    },
    {
      "cell_type": "code",
      "metadata": {
        "trusted": true,
        "id": "LR2BEbCc9XrJ",
        "colab_type": "code",
        "colab": {}
      },
      "source": [
        "import pandas as pd\n",
        "data_train = pd.read_csv(\"/content/train.csv\")\n",
        "data_test = pd.read_csv(\"/content/test.csv\")"
      ],
      "execution_count": 1,
      "outputs": []
    },
    {
      "cell_type": "code",
      "metadata": {
        "trusted": true,
        "id": "vXiK06cl9XrL",
        "colab_type": "code",
        "colab": {
          "base_uri": "https://localhost:8080/",
          "height": 34
        },
        "outputId": "8881687e-3562-415a-f169-6338e955ebc6"
      },
      "source": [
        "print(data_train.shape)"
      ],
      "execution_count": 2,
      "outputs": [
        {
          "output_type": "stream",
          "text": [
            "(7613, 5)\n"
          ],
          "name": "stdout"
        }
      ]
    },
    {
      "cell_type": "code",
      "metadata": {
        "trusted": true,
        "id": "W6QIGGnV9XrO",
        "colab_type": "code",
        "colab": {
          "base_uri": "https://localhost:8080/",
          "height": 221
        },
        "outputId": "16a6c842-3d21-4851-fb6a-9748b8fd41d5"
      },
      "source": [
        "print(data_train['location'].value_counts())"
      ],
      "execution_count": 3,
      "outputs": [
        {
          "output_type": "stream",
          "text": [
            "USA                       104\n",
            "New York                   71\n",
            "United States              50\n",
            "London                     45\n",
            "Canada                     29\n",
            "                         ... \n",
            "Montana, USA                1\n",
            "In your head                1\n",
            "Milton Keynes, England      1\n",
            "KLA,Uganda                  1\n",
            "Overland Park, KS           1\n",
            "Name: location, Length: 3341, dtype: int64\n"
          ],
          "name": "stdout"
        }
      ]
    },
    {
      "cell_type": "code",
      "metadata": {
        "trusted": true,
        "id": "gZ4vEmIZ9XrQ",
        "colab_type": "code",
        "colab": {
          "base_uri": "https://localhost:8080/",
          "height": 255
        },
        "outputId": "7fdeadbb-1603-4bde-cbb7-cd3de47e4a7d"
      },
      "source": [
        "print(data_train.head())\n",
        "print(data_test.head())"
      ],
      "execution_count": 4,
      "outputs": [
        {
          "output_type": "stream",
          "text": [
            "   id keyword  ...                                               text target\n",
            "0   1     NaN  ...  Our Deeds are the Reason of this #earthquake M...      1\n",
            "1   4     NaN  ...             Forest fire near La Ronge Sask. Canada      1\n",
            "2   5     NaN  ...  All residents asked to 'shelter in place' are ...      1\n",
            "3   6     NaN  ...  13,000 people receive #wildfires evacuation or...      1\n",
            "4   7     NaN  ...  Just got sent this photo from Ruby #Alaska as ...      1\n",
            "\n",
            "[5 rows x 5 columns]\n",
            "   id keyword location                                               text\n",
            "0   0     NaN      NaN                 Just happened a terrible car crash\n",
            "1   2     NaN      NaN  Heard about #earthquake is different cities, s...\n",
            "2   3     NaN      NaN  there is a forest fire at spot pond, geese are...\n",
            "3   9     NaN      NaN           Apocalypse lighting. #Spokane #wildfires\n",
            "4  11     NaN      NaN      Typhoon Soudelor kills 28 in China and Taiwan\n"
          ],
          "name": "stdout"
        }
      ]
    },
    {
      "cell_type": "code",
      "metadata": {
        "trusted": true,
        "id": "GRhQNiDp9XrU",
        "colab_type": "code",
        "colab": {}
      },
      "source": [
        "data_train['location'] = data_train.location.apply(lambda x: x if not pd.isnull(x) else 'World')\n",
        "data_test['location'] = data_test.location.apply(lambda x: x if not pd.isnull(x) else 'World')"
      ],
      "execution_count": 5,
      "outputs": []
    },
    {
      "cell_type": "code",
      "metadata": {
        "trusted": true,
        "id": "gad1iXLk9XrX",
        "colab_type": "code",
        "colab": {
          "base_uri": "https://localhost:8080/",
          "height": 119
        },
        "outputId": "b1654786-ccfc-4852-85d7-91bf7f349f45"
      },
      "source": [
        "print(data_train.isna().any())"
      ],
      "execution_count": 6,
      "outputs": [
        {
          "output_type": "stream",
          "text": [
            "id          False\n",
            "keyword      True\n",
            "location    False\n",
            "text        False\n",
            "target      False\n",
            "dtype: bool\n"
          ],
          "name": "stdout"
        }
      ]
    },
    {
      "cell_type": "code",
      "metadata": {
        "_uuid": "d629ff2d2480ee46fbb7e2d37f6b5fab8052498a",
        "_cell_guid": "79c7e3d0-c299-4dcb-8224-4455121ee9b0",
        "trusted": true,
        "id": "joA9JsXa9XrZ",
        "colab_type": "code",
        "colab": {}
      },
      "source": [
        "import os\n",
        "import re\n",
        "from tqdm import tqdm_notebook as tqdm\n",
        "import nltk\n",
        "def decontracted(phrase):\n",
        "    # specific\n",
        "    phrase = re.sub(r\"won't\", \"will not\", phrase)\n",
        "    phrase = re.sub(r\"can\\'t\", \"can not\", phrase)\n",
        "\n",
        "    # general\n",
        "    phrase = re.sub(r\"n\\'t\", \" not\", phrase)\n",
        "    phrase = re.sub(r\"\\'re\", \" are\", phrase)\n",
        "    phrase = re.sub(r\"\\'s\", \" is\", phrase)\n",
        "    phrase = re.sub(r\"\\'d\", \" would\", phrase)\n",
        "    phrase = re.sub(r\"\\'ll\", \" will\", phrase)\n",
        "    phrase = re.sub(r\"\\'t\", \" not\", phrase)\n",
        "    phrase = re.sub(r\"\\'ve\", \" have\", phrase)\n",
        "    phrase = re.sub(r\"\\'m\", \" am\", phrase)\n",
        "    return phrase\n",
        "def remove_speical_characters(text):\n",
        "    text = re.sub(r\"[^a-zA-Z !]+\", '', text)\n",
        "    return text"
      ],
      "execution_count": 7,
      "outputs": []
    },
    {
      "cell_type": "code",
      "metadata": {
        "trusted": true,
        "id": "wAqy3Cjc9Xrb",
        "colab_type": "code",
        "colab": {}
      },
      "source": [
        "# Deconracting\n",
        "data_train['text'] = data_train.text.apply(lambda x: decontracted(x))\n",
        "data_test['text'] = data_test.text.apply(lambda x: decontracted(x))\n",
        "\n",
        "# Removing numbers and special characters except spcae and exclamation.\n",
        "#data_train['text'] = data_train.text.apply(lambda x: remove_speical_characters(x))\n",
        "#data_test['text'] = data_test.text.apply(lambda x: remove_speical_characters(x))"
      ],
      "execution_count": 8,
      "outputs": []
    },
    {
      "cell_type": "code",
      "metadata": {
        "trusted": true,
        "id": "Xh99y4mT9Xrd",
        "colab_type": "code",
        "colab": {
          "base_uri": "https://localhost:8080/",
          "height": 153
        },
        "outputId": "8f87b9a7-7d53-4088-9f4e-646e840a3321"
      },
      "source": [
        "print(data_train.head())"
      ],
      "execution_count": 9,
      "outputs": [
        {
          "output_type": "stream",
          "text": [
            "   id keyword  ...                                               text target\n",
            "0   1     NaN  ...  Our Deeds are the Reason of this #earthquake M...      1\n",
            "1   4     NaN  ...             Forest fire near La Ronge Sask. Canada      1\n",
            "2   5     NaN  ...  All residents asked to  ishelter in place' are...      1\n",
            "3   6     NaN  ...  13,000 people receive #wildfires evacuation or...      1\n",
            "4   7     NaN  ...  Just got sent this photo from Ruby #Alaska as ...      1\n",
            "\n",
            "[5 rows x 5 columns]\n"
          ],
          "name": "stdout"
        }
      ]
    },
    {
      "cell_type": "code",
      "metadata": {
        "trusted": true,
        "id": "Xs9TJ8ss9Xrf",
        "colab_type": "code",
        "colab": {}
      },
      "source": [
        "data_train['keyword'] = data_train.keyword.apply(lambda x: x if not pd.isnull(x) else 'nothing')\n",
        "data_test['keyword'] = data_test.keyword.apply(lambda x: x if not pd.isnull(x) else 'nothing')"
      ],
      "execution_count": 10,
      "outputs": []
    },
    {
      "cell_type": "code",
      "metadata": {
        "trusted": true,
        "id": "-H92Vknr9Xrh",
        "colab_type": "code",
        "colab": {
          "base_uri": "https://localhost:8080/",
          "height": 34
        },
        "outputId": "ba06e432-2520-4ca4-ddec-cdfb65b3155d"
      },
      "source": [
        "from sklearn.model_selection import train_test_split\n",
        "y_train = data_train['target'].values\n",
        "data_train.drop(['target'], axis=1, inplace=True)\n",
        "print(data_train.columns)\n",
        "X_train, X_cv, y_train, y_cv = train_test_split(data_train, y_train, test_size=0.2, random_state=42)"
      ],
      "execution_count": 11,
      "outputs": [
        {
          "output_type": "stream",
          "text": [
            "Index(['id', 'keyword', 'location', 'text'], dtype='object')\n"
          ],
          "name": "stdout"
        }
      ]
    },
    {
      "cell_type": "code",
      "metadata": {
        "trusted": true,
        "id": "rF1qske29Xrj",
        "colab_type": "code",
        "colab": {
          "base_uri": "https://localhost:8080/",
          "height": 85
        },
        "outputId": "98ae5824-3a8f-4427-9dee-1c07203722e1"
      },
      "source": [
        "print(X_train.columns)\n",
        "print(X_cv.shape)\n",
        "print(y_train.shape)\n",
        "print(y_cv.shape)"
      ],
      "execution_count": 12,
      "outputs": [
        {
          "output_type": "stream",
          "text": [
            "Index(['id', 'keyword', 'location', 'text'], dtype='object')\n",
            "(1523, 4)\n",
            "(6090,)\n",
            "(1523,)\n"
          ],
          "name": "stdout"
        }
      ]
    },
    {
      "cell_type": "code",
      "metadata": {
        "trusted": true,
        "id": "oyc7cErC9Xrl",
        "colab_type": "code",
        "colab": {}
      },
      "source": [
        "from sklearn.feature_extraction.text import TfidfVectorizer, CountVectorizer\n",
        "from sklearn.preprocessing import OneHotEncoder\n",
        "vectorizer = TfidfVectorizer(stop_words={'english'}, min_df = 0.0001)\n",
        "vectorizer_cnt = CountVectorizer(binary=True, ngram_range=(1,2))\n",
        "vectorizer_cnt.fit(X_train['text'].values)\n",
        "data_text_train = vectorizer_cnt.transform(X_train['text'].values)\n",
        "data_text_cv = vectorizer_cnt.transform(X_cv['text'].values)\n",
        "data_text_test = vectorizer_cnt.transform(data_test['text'].values)\n",
        "\n",
        "enc_location = OneHotEncoder(handle_unknown='ignore')\n",
        "enc_location.fit(X_train['location'].values.reshape(-1, 1))\n",
        "data_location_train = enc_location.transform(X_train['location'].values.reshape(-1, 1))\n",
        "data_location_cv = enc_location.transform(X_cv['location'].values.reshape(-1, 1))\n",
        "data_location_test = enc_location.transform(data_test['location'].values.reshape(-1, 1))\n",
        "\n",
        "enc_keyword = OneHotEncoder(handle_unknown='ignore')\n",
        "enc_keyword.fit(X_train['keyword'].values.reshape(-1, 1))\n",
        "data_keyword_train = enc_location.transform(X_train['keyword'].values.reshape(-1, 1))\n",
        "data_keyword_cv = enc_location.transform(X_cv['keyword'].values.reshape(-1, 1))\n",
        "data_keyword_test = enc_location.transform(data_test['keyword'].values.reshape(-1, 1))"
      ],
      "execution_count": 13,
      "outputs": []
    },
    {
      "cell_type": "code",
      "metadata": {
        "trusted": true,
        "id": "nr94GGKr9Xrn",
        "colab_type": "code",
        "colab": {
          "base_uri": "https://localhost:8080/",
          "height": 68
        },
        "outputId": "2d05873b-187a-4897-87a1-dd0905898a48"
      },
      "source": [
        "print(data_text_train.shape)\n",
        "print(data_text_cv.shape)\n",
        "print(data_text_test.shape)"
      ],
      "execution_count": 14,
      "outputs": [
        {
          "output_type": "stream",
          "text": [
            "(6090, 75467)\n",
            "(1523, 75467)\n",
            "(3263, 75467)\n"
          ],
          "name": "stdout"
        }
      ]
    },
    {
      "cell_type": "code",
      "metadata": {
        "trusted": true,
        "id": "SOTrklSA9Xrq",
        "colab_type": "code",
        "colab": {
          "base_uri": "https://localhost:8080/",
          "height": 68
        },
        "outputId": "54b4024b-63d4-4a84-859a-17ec3ce8dba0"
      },
      "source": [
        "print(data_location_train.shape)\n",
        "print(data_location_cv.shape)\n",
        "print(data_location_test.shape)"
      ],
      "execution_count": 15,
      "outputs": [
        {
          "output_type": "stream",
          "text": [
            "(6090, 2771)\n",
            "(1523, 2771)\n",
            "(3263, 2771)\n"
          ],
          "name": "stdout"
        }
      ]
    },
    {
      "cell_type": "code",
      "metadata": {
        "trusted": true,
        "id": "KH6QIVWK9Xrs",
        "colab_type": "code",
        "colab": {
          "base_uri": "https://localhost:8080/",
          "height": 68
        },
        "outputId": "26d1aa5b-c644-415a-ac0e-12d3513224b1"
      },
      "source": [
        "print(data_keyword_train.shape)\n",
        "print(data_keyword_cv.shape)\n",
        "print(data_keyword_test.shape)"
      ],
      "execution_count": 16,
      "outputs": [
        {
          "output_type": "stream",
          "text": [
            "(6090, 2771)\n",
            "(1523, 2771)\n",
            "(3263, 2771)\n"
          ],
          "name": "stdout"
        }
      ]
    },
    {
      "cell_type": "code",
      "metadata": {
        "trusted": true,
        "id": "blhO1BED9Xru",
        "colab_type": "code",
        "colab": {}
      },
      "source": [
        "from scipy.sparse import hstack\n",
        "final_data_train = hstack([data_text_train,data_keyword_train])\n",
        "final_data_cv = hstack([data_text_cv,data_keyword_cv])\n",
        "final_data_test = hstack([data_text_test,data_keyword_test])"
      ],
      "execution_count": 17,
      "outputs": []
    },
    {
      "cell_type": "code",
      "metadata": {
        "trusted": true,
        "id": "kGP817ZR9Xrx",
        "colab_type": "code",
        "colab": {
          "base_uri": "https://localhost:8080/",
          "height": 68
        },
        "outputId": "9f8d1433-6a6a-4422-91ca-b690391a9dfd"
      },
      "source": [
        "print(final_data_train.shape)\n",
        "print(final_data_cv.shape)\n",
        "print(final_data_test.shape)"
      ],
      "execution_count": 18,
      "outputs": [
        {
          "output_type": "stream",
          "text": [
            "(6090, 78238)\n",
            "(1523, 78238)\n",
            "(3263, 78238)\n"
          ],
          "name": "stdout"
        }
      ]
    },
    {
      "cell_type": "code",
      "metadata": {
        "trusted": true,
        "id": "aUDPlWAA9Xrz",
        "colab_type": "code",
        "colab": {}
      },
      "source": [
        "from sklearn.metrics import accuracy_score\n",
        "from sklearn.metrics import roc_auc_score"
      ],
      "execution_count": 19,
      "outputs": []
    },
    {
      "cell_type": "code",
      "metadata": {
        "trusted": true,
        "id": "FTuqUVJ59Xr0",
        "colab_type": "code",
        "colab": {
          "base_uri": "https://localhost:8080/",
          "height": 51
        },
        "outputId": "4ac50fc6-e54a-484e-c2ce-a2bb67b66119"
      },
      "source": [
        "from sklearn.linear_model import LogisticRegression #importing logistic regression model\n",
        "\n",
        "lr = LogisticRegression()\n",
        "\n",
        "lr.fit(final_data_train,y_train)#fit or train data\n",
        "\n",
        "y_cv_pred = lr.predict(final_data_cv)\n",
        "y_cv_pred_prob_lr = lr.predict_proba(final_data_cv)\n",
        "print('Logistic Regression cv accuracy : ',accuracy_score(y_cv_pred,y_cv))\n",
        "print('Logistic Regression cv AUC : ',roc_auc_score(y_cv_pred,y_cv))"
      ],
      "execution_count": 20,
      "outputs": [
        {
          "output_type": "stream",
          "text": [
            "Logistic Regression cv accuracy :  0.8128693368351937\n",
            "Logistic Regression cv AUC :  0.8165028582516156\n"
          ],
          "name": "stdout"
        }
      ]
    },
    {
      "cell_type": "code",
      "metadata": {
        "trusted": true,
        "id": "I7n2SG9E9Xr2",
        "colab_type": "code",
        "colab": {
          "base_uri": "https://localhost:8080/",
          "height": 136
        },
        "outputId": "49e4ef01-1f49-46a8-bedc-c605a98c883b"
      },
      "source": [
        "print(y_cv_pred_prob_lr)"
      ],
      "execution_count": 21,
      "outputs": [
        {
          "output_type": "stream",
          "text": [
            "[[0.99153806 0.00846194]\n",
            " [0.77362302 0.22637698]\n",
            " [0.4024781  0.5975219 ]\n",
            " ...\n",
            " [0.06948519 0.93051481]\n",
            " [0.01020063 0.98979937]\n",
            " [0.20957346 0.79042654]]\n"
          ],
          "name": "stdout"
        }
      ]
    },
    {
      "cell_type": "code",
      "metadata": {
        "trusted": true,
        "id": "iDyw04hq9Xr4",
        "colab_type": "code",
        "colab": {
          "base_uri": "https://localhost:8080/",
          "height": 170
        },
        "outputId": "a6fafd55-62ab-42d0-95d4-256ce663b785"
      },
      "source": [
        "y_test_pred = lr.predict(final_data_test)\n",
        "print(y_test_pred)\n",
        "data_test['target'] = y_test_pred\n",
        "print(data_test.head())"
      ],
      "execution_count": 22,
      "outputs": [
        {
          "output_type": "stream",
          "text": [
            "[1 1 1 ... 1 1 0]\n",
            "   id  keyword  ...                                               text target\n",
            "0   0  nothing  ...                 Just happened a terrible car crash      1\n",
            "1   2  nothing  ...  Heard about #earthquake is different cities, s...      1\n",
            "2   3  nothing  ...  there is a forest fire at spot pond, geese are...      1\n",
            "3   9  nothing  ...           Apocalypse lighting. #Spokane #wildfires      0\n",
            "4  11  nothing  ...      Typhoon Soudelor kills 28 in China and Taiwan      1\n",
            "\n",
            "[5 rows x 5 columns]\n"
          ],
          "name": "stdout"
        }
      ]
    },
    {
      "cell_type": "code",
      "metadata": {
        "trusted": true,
        "id": "AUlJ8pem9Xr5",
        "colab_type": "code",
        "colab": {
          "base_uri": "https://localhost:8080/",
          "height": 119
        },
        "outputId": "4e38aa9c-936a-4ab1-eeca-f21118977307"
      },
      "source": [
        "data_test.drop(['keyword','location', 'text'], axis=1, inplace=True)\n",
        "print(data_test.head())\n",
        "data_test.to_csv('submission_file_1.csv', index=False)"
      ],
      "execution_count": 23,
      "outputs": [
        {
          "output_type": "stream",
          "text": [
            "   id  target\n",
            "0   0       1\n",
            "1   2       1\n",
            "2   3       1\n",
            "3   9       0\n",
            "4  11       1\n"
          ],
          "name": "stdout"
        }
      ]
    },
    {
      "cell_type": "code",
      "metadata": {
        "trusted": true,
        "id": "4I0_z5gY9Xr7",
        "colab_type": "code",
        "colab": {}
      },
      "source": [
        ""
      ],
      "execution_count": 23,
      "outputs": []
    },
    {
      "cell_type": "code",
      "metadata": {
        "trusted": true,
        "id": "rC0WTuM99Xr-",
        "colab_type": "code",
        "colab": {
          "base_uri": "https://localhost:8080/",
          "height": 51
        },
        "outputId": "4e8a4f4e-b7fb-4a1c-f814-e96b3c456fb1"
      },
      "source": [
        "from sklearn.neighbors import KNeighborsClassifier\n",
        "\n",
        "knn = KNeighborsClassifier(n_neighbors = 3)\n",
        "knn.fit(final_data_train,y_train)\n",
        "\n",
        "y_cv_pred = knn.predict(final_data_cv)\n",
        "print('KNN cv accuracy : ',accuracy_score(y_cv_pred,y_cv))\n",
        "print('KNN cv AUC : ',roc_auc_score(y_cv_pred,y_cv))"
      ],
      "execution_count": 24,
      "outputs": [
        {
          "output_type": "stream",
          "text": [
            "KNN cv accuracy :  0.6730137885751806\n",
            "KNN cv AUC :  0.7878377221151787\n"
          ],
          "name": "stdout"
        }
      ]
    },
    {
      "cell_type": "code",
      "metadata": {
        "trusted": true,
        "id": "JxZ2IIcm9XsA",
        "colab_type": "code",
        "colab": {
          "base_uri": "https://localhost:8080/",
          "height": 51
        },
        "outputId": "17571701-1262-496d-b21e-e1e067638c59"
      },
      "source": [
        "from sklearn.svm import SVC\n",
        "\n",
        "svm = SVC(kernel='rbf', C=1000, gamma ='auto', probability = True)\n",
        "\n",
        "svm.fit(final_data_train,y_train)\n",
        "\n",
        "y_cv_pred = svm.predict(final_data_cv)\n",
        "y_cv_pred_prob = lr.predict_proba(final_data_cv)\n",
        "print('SVM cv accuracy : ',accuracy_score(y_cv_pred,y_cv))\n",
        "print('SVM cv AUC : ',roc_auc_score(y_cv_pred,y_cv))"
      ],
      "execution_count": 25,
      "outputs": [
        {
          "output_type": "stream",
          "text": [
            "SVM cv accuracy :  0.8161523309258043\n",
            "SVM cv AUC :  0.8332697693820392\n"
          ],
          "name": "stdout"
        }
      ]
    },
    {
      "cell_type": "code",
      "metadata": {
        "trusted": true,
        "id": "V75eGpAG9XsB",
        "colab_type": "code",
        "colab": {
          "base_uri": "https://localhost:8080/",
          "height": 136
        },
        "outputId": "cb2e83e0-2249-45a8-899d-2ff28186e763"
      },
      "source": [
        "print(y_cv_pred_prob)"
      ],
      "execution_count": 26,
      "outputs": [
        {
          "output_type": "stream",
          "text": [
            "[[0.99153806 0.00846194]\n",
            " [0.77362302 0.22637698]\n",
            " [0.4024781  0.5975219 ]\n",
            " ...\n",
            " [0.06948519 0.93051481]\n",
            " [0.01020063 0.98979937]\n",
            " [0.20957346 0.79042654]]\n"
          ],
          "name": "stdout"
        }
      ]
    },
    {
      "cell_type": "code",
      "metadata": {
        "trusted": true,
        "id": "M2bH9Nmx9XsD",
        "colab_type": "code",
        "colab": {}
      },
      "source": [
        "y_cv_mod_pred = []\n",
        "for i in range(len(y_cv_pred)):\n",
        "    max_val = -1\n",
        "    cl = 0\n",
        "    if(y_cv_pred_prob[i][0]>max_val):\n",
        "        max_val = y_cv_pred_prob[i][0]\n",
        "        cl = 0\n",
        "    if(y_cv_pred_prob[i][1]>max_val):\n",
        "        max_val = y_cv_pred_prob[i][1]\n",
        "        cl = 1\n",
        "    if(y_cv_pred_prob_lr[i][0]>max_val):\n",
        "        max_val = y_cv_pred_prob_lr[i][0]\n",
        "        cl = 0\n",
        "    if(y_cv_pred_prob_lr[i][1]>max_val):\n",
        "        max_val = y_cv_pred_prob_lr[i][1]\n",
        "        cl = 1\n",
        "    y_cv_mod_pred.append(cl)"
      ],
      "execution_count": 27,
      "outputs": []
    },
    {
      "cell_type": "code",
      "metadata": {
        "trusted": true,
        "id": "uvgyC5_79XsF",
        "colab_type": "code",
        "colab": {
          "base_uri": "https://localhost:8080/",
          "height": 51
        },
        "outputId": "19fd8517-b7dc-4cb3-fee3-7f231710efe7"
      },
      "source": [
        "print('SVM cv accuracy : ',accuracy_score(y_cv_mod_pred,y_cv))\n",
        "print('SVM cv AUC : ',roc_auc_score(y_cv_mod_pred,y_cv))"
      ],
      "execution_count": 28,
      "outputs": [
        {
          "output_type": "stream",
          "text": [
            "SVM cv accuracy :  0.8128693368351937\n",
            "SVM cv AUC :  0.8165028582516156\n"
          ],
          "name": "stdout"
        }
      ]
    },
    {
      "cell_type": "code",
      "metadata": {
        "trusted": true,
        "id": "0Fph_-ut9XsH",
        "colab_type": "code",
        "colab": {
          "base_uri": "https://localhost:8080/",
          "height": 119
        },
        "outputId": "fe8c79b8-c32d-48ea-9620-5786385dd5e8"
      },
      "source": [
        "y_test_pred = svm.predict(final_data_test)\n",
        "data_test['target'] = y_test_pred\n",
        "print(data_test.head())\n",
        "data_test.to_csv('submission_file_svc_2.csv', index=False)"
      ],
      "execution_count": 29,
      "outputs": [
        {
          "output_type": "stream",
          "text": [
            "   id  target\n",
            "0   0       0\n",
            "1   2       0\n",
            "2   3       1\n",
            "3   9       0\n",
            "4  11       1\n"
          ],
          "name": "stdout"
        }
      ]
    },
    {
      "cell_type": "code",
      "metadata": {
        "trusted": true,
        "id": "3KVpo5oA9XsJ",
        "colab_type": "code",
        "colab": {
          "base_uri": "https://localhost:8080/",
          "height": 51
        },
        "outputId": "ed2de36c-289e-456d-b807-e0a8250baa6e"
      },
      "source": [
        "from sklearn.naive_bayes import GaussianNB\n",
        "\n",
        "nb = GaussianNB()\n",
        "\n",
        "nb.fit(final_data_train.toarray(),y_train)\n",
        "\n",
        "y_cv_pred = nb.predict(final_data_cv.toarray())\n",
        "print('Naive bayes cv accuracy : ',accuracy_score(y_cv_pred,y_cv))\n",
        "print('Naive bayes cv AUC : ',roc_auc_score(y_cv_pred,y_cv))"
      ],
      "execution_count": 30,
      "outputs": [
        {
          "output_type": "stream",
          "text": [
            "Naive bayes cv accuracy :  0.7071569271175312\n",
            "Naive bayes cv AUC :  0.7089648294615374\n"
          ],
          "name": "stdout"
        }
      ]
    },
    {
      "cell_type": "code",
      "metadata": {
        "trusted": true,
        "id": "XTdGxV9j9XsK",
        "colab_type": "code",
        "colab": {
          "base_uri": "https://localhost:8080/",
          "height": 51
        },
        "outputId": "b3804ff7-432c-4e46-e524-591cc725db7e"
      },
      "source": [
        "from sklearn.tree import DecisionTreeClassifier\n",
        "\n",
        "dt = DecisionTreeClassifier()\n",
        "\n",
        "dt.fit(final_data_train,y_train)\n",
        "\n",
        "y_cv_pred = dt.predict(final_data_cv)\n",
        "print('Decision Tree cv accuracy : ',accuracy_score(y_cv_pred,y_cv))\n",
        "print('Decision Tree cv AUC : ',roc_auc_score(y_cv_pred,y_cv))"
      ],
      "execution_count": 31,
      "outputs": [
        {
          "output_type": "stream",
          "text": [
            "Decision Tree cv accuracy :  0.7491792514773473\n",
            "Decision Tree cv AUC :  0.7455815842627558\n"
          ],
          "name": "stdout"
        }
      ]
    },
    {
      "cell_type": "code",
      "metadata": {
        "trusted": true,
        "id": "7rJM_ZXm9XsL",
        "colab_type": "code",
        "colab": {
          "base_uri": "https://localhost:8080/",
          "height": 51
        },
        "outputId": "877d299a-2b5d-4783-94af-c36198944e9d"
      },
      "source": [
        "from sklearn.ensemble import RandomForestClassifier\n",
        "\n",
        "rf = RandomForestClassifier(n_estimators = 100,random_state = 40)\n",
        "\n",
        "rf.fit(final_data_train,y_train)\n",
        "\n",
        "y_cv_pred = rf.predict(final_data_cv)\n",
        "print('Random Forest cv accuracy : ',accuracy_score(y_cv_pred,y_cv))\n",
        "print('Random Forest cv AUC : ',roc_auc_score(y_cv_pred,y_cv))"
      ],
      "execution_count": 32,
      "outputs": [
        {
          "output_type": "stream",
          "text": [
            "Random Forest cv accuracy :  0.7793827971109653\n",
            "Random Forest cv AUC :  0.8157772099287363\n"
          ],
          "name": "stdout"
        }
      ]
    }
  ]
}